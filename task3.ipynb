{
 "cells": [
  {
   "metadata": {},
   "cell_type": "markdown",
   "source": [
    "Master\n",
    "\n",
    "Task 3. Implement camera calibration using Zhang's method (you can use openCV's cameraCalibrate) on a pattern with circular grid (medium-ish - 1.25p)\n"
   ],
   "id": "90c37c0d94c42e2a"
  },
  {
   "metadata": {
    "ExecuteTime": {
     "end_time": "2025-05-04T16:01:49.514180Z",
     "start_time": "2025-05-04T16:01:47.743213Z"
    }
   },
   "cell_type": "code",
   "source": [
    "# Conclusion 1. The algorithm is capable of detecting circles in low-dimensional images.\n",
    "# 2.However, due to the limited information in low-dimensional data, it may fail to accurately connect the circles.\n",
    "# 3.In my tests, using cv2.CALIB_CB_ASYMMETRIC_GRID alone performs better than combining it with cv2.CALIB_CB_CLUSTERING.\n",
    "# 4. grayscale does not work better\n",
    "# the second code block detect successfully\n",
    "\n",
    "# I printed my image and took some photos, but the algorithm failed to detect the pattern,\n",
    "# I try to resize the photo(scale down) but it didn't work well either.\n",
    "# maybe the image is too complicated, there are too many circles, less circles may work?\n",
    "# so I give up on my photo\n",
    "import cv2\n",
    "import glob\n",
    "import copy\n",
    "import math\n",
    "import numpy as np\n",
    "import imageio\n",
    "import os\n",
    "import matplotlib.pyplot as plt\n",
    "from pprint import pprint as pp\n",
    "\n",
    "\n",
    "# code from Gemini 2.5 pro\n",
    "## my image pattern  6 * 8\n",
    "pattern_col = 6\n",
    "pattern_row = 8\n",
    "\n",
    "pattern_size = (pattern_col, pattern_row)\n",
    "\n",
    "# my image circle size this argument is used to generate real coordinate\n",
    "circle_spacing = 20\n",
    "\n",
    "obj_points = [] # 3d point in real world space\n",
    "img_points = [] # 2d points in image plane.\n",
    "objp = np.zeros((pattern_col*pattern_row,3), np.float32)\n",
    "\n",
    "# generate real world coordinates\n",
    "for r in range(pattern_row):\n",
    "    for c in range(pattern_col):\n",
    "        idx = r*pattern_col + c\n",
    "        objp[idx, 0] = (2*c + r%2) * circle_spacing\n",
    "        objp[idx, 1] = r * circle_spacing\n",
    "        objp[idx, 2] = 0\n",
    "\n",
    "## code from lab1\n",
    "assets_path = \"Assets\"\n",
    "task_dir = \"task3\"\n",
    "directory_path = os.path.join(assets_path, task_dir)\n",
    "directory_files = os.listdir(directory_path)\n",
    "\n",
    "# photo dimensions: 4000*3000, the algorithm cannot detect the patter, no dots show in CircleGridDetect\n",
    "# test_file = \"IMG_20250504_124935.jpg\"\n",
    "\n",
    "# original image dimensions: 1830 * 1330 the algorithm also cannot detect the patter, no dots show in CircleGridDetect\n",
    "# test_file = \"pattern_acircles.png\"\n",
    "\n",
    "# original image scale down, I found from this link: https://github.com/opencv/opencv/issues/24971, the image contains less circles and dimension is lower,\n",
    "# so I try to scale down the image, dimensions: 1409 * 1024 the algorithm can detect circles but can not draw lines between them\n",
    "# test_file = \"imageedit_2_5546491182.png\"\n",
    "# I try to scale down my photo result dimensions: 1380 * 1035 the algorithm can also detect circles but can not draw lines between them\n",
    "test_file = \"IMG_20250504_125104_1380_1035.jpg\"\n",
    "#test_file = \"IMG_20250504_125104_1067_800.jpg\"\n",
    "# test_file = \"IMG_20250504_125104_800_600.jpg\"\n",
    "# test_file = \"IMG_20250504_125104_667_500.jpg\"\n",
    "# test_file = \"IMG_20250504_125104_267_200.jpg\"\n",
    "\n",
    "# set flag\n",
    "# with my photos, cv2.CALIB_CB_ASYMMETRIC_GRID + cv2.CALIB_CB_CLUSTERING does not work well as cv2.CALIB_CB_ASYMMETRIC_GRID alone\n",
    "# grid_flag = cv2.CALIB_CB_ASYMMETRIC_GRID + cv2.CALIB_CB_CLUSTERING\n",
    "grid_flag = cv2.CALIB_CB_ASYMMETRIC_GRID\n",
    "img = cv2.imread(os.path.join(directory_path, test_file))\n",
    "\n",
    "\n",
    "# #  gray scale does not better for detection\n",
    "# gray = cv2.cvtColor(img, cv2.COLOR_BGR2GRAY)\n",
    "# ret, centers = cv2.findCirclesGrid(gray, pattern_size, flags=grid_flag)\n",
    "# # debug code\n",
    "# cv2.drawChessboardCorners(gray, pattern_size, centers, ret)\n",
    "# print(ret)\n",
    "# # Resize image to show within my screen\n",
    "# imS = cv2.resize(gray, (960, 540))\n",
    "# cv2.imshow(\"CircleGridDetect\", imS)\n",
    "# cv2.imwrite(\"CircleGridDetect1.png\", imS)\n",
    "# cv2.waitKey(0)\n",
    "\n",
    "# ret, centers = cv2.findCirclesGrid(img, pattern_size, flags=grid_flag)\n",
    "# # debug code\n",
    "# cv2.drawChessboardCorners(img, pattern_size, centers, ret)\n",
    "# print(ret)\n",
    "# cv2.imshow(\"CircleGridDetect\", img)\n",
    "# cv2.imwrite(\"CircleGridDetect1.png\", img)\n",
    "# cv2.waitKey(0)\n"
   ],
   "id": "bfc6551c62df5842",
   "outputs": [
    {
     "name": "stdout",
     "output_type": "stream",
     "text": [
      "False\n"
     ]
    },
    {
     "data": {
      "text/plain": [
       "-1"
      ]
     },
     "execution_count": 7,
     "metadata": {},
     "output_type": "execute_result"
    }
   ],
   "execution_count": 7
  },
  {
   "metadata": {
    "ExecuteTime": {
     "end_time": "2025-05-04T16:08:04.527964Z",
     "start_time": "2025-05-04T16:08:01.820791Z"
    }
   },
   "cell_type": "code",
   "source": [
    "# code from: https://github.com/opencv/opencv/issues/24971 also in this issue I found someone showed an alternative algorithm\n",
    "import cv2 as cv\n",
    "\n",
    "\n",
    "def display_image(image_np, title='Image'):\n",
    "    \"\"\"Displays a NumPy array image using Matplotlib.\"\"\"\n",
    "    if image_np is None:\n",
    "        print(\"Cannot display None image.\")\n",
    "        return\n",
    "    if image_np.ndim != 3 or image_np.shape[2] != 3:\n",
    "        print(f\"Image needs to be 3 channels (RGB) for display, but got shape {image_np.shape}\")\n",
    "        # Optionally try grayscale display:\n",
    "        # plt.imshow(image_np, cmap='gray')\n",
    "        return\n",
    "    # Increased size slightly\n",
    "    fig, ax = plt.subplots(figsize=(10,10))\n",
    "    ax.imshow(image_np)\n",
    "    ax.set_title(title)\n",
    "    ax.axis('off')\n",
    "    plt.show()\n",
    "\n",
    "# my own path\n",
    "assets_path = \"Assets\"\n",
    "task_dir = \"task3\"\n",
    "directory_path = os.path.join(assets_path, task_dir)\n",
    "file_name = \"aaa.png\"\n",
    "frame = cv2.imread(os.path.join(directory_path, file_name))\n",
    "\n",
    "# using cv2.CALIB_CB_ASYMMETRIC_GRID alone performs better than combining it with cv2.CALIB_CB_CLUSTERING.\n",
    "# grid_flag = cv2.CALIB_CB_ASYMMETRIC_GRID + cv2.CALIB_CB_CLUSTERING\n",
    "\n",
    "grid_flag = cv2.CALIB_CB_ASYMMETRIC_GRID\n",
    "circle_board_size = (3, 6)\n",
    "\n",
    "# # gray does not work well\n",
    "# gray = cv2.cvtColor(frame, cv2.COLOR_BGR2GRAY)\n",
    "# ret, circle_centers = cv2.findCirclesGrid(gray, pattern_size, flags=grid_flag)\n",
    "# cv.drawChessboardCorners(frame, circle_board_size, circle_centers, ret)\n",
    "\n",
    "ret, circle_centers = cv.findCirclesGrid(frame, circle_board_size, flags=grid_flag)\n",
    "cv.drawChessboardCorners(frame, circle_board_size, circle_centers, ret)\n",
    "## pop-up window\n",
    "# print(ret)\n",
    "# cv.imshow(\"CircleGridDetect\", frame)\n",
    "# cv.imwrite(\"CircleGridDetect1.png\", frame)\n",
    "# cv.waitKey(0)\n",
    "\n",
    "display_image(frame, 'CircleGridDetect')\n",
    "\n"
   ],
   "id": "eca275c050e36c3",
   "outputs": [
    {
     "name": "stdout",
     "output_type": "stream",
     "text": [
      "True\n"
     ]
    },
    {
     "data": {
      "text/plain": [
       "<Figure size 1000x1000 with 1 Axes>"
      ],
      "image/png": "[encoded data removed]"
     },
     "metadata": {},
     "output_type": "display_data"
    },
    {
     "data": {
      "text/plain": [
       "-1"
      ]
     },
     "execution_count": 12,
     "metadata": {},
     "output_type": "execute_result"
    }
   ],
   "execution_count": 12
  }
 ],
 "metadata": {
  "kernelspec": {
   "display_name": "Python 3",
   "language": "python",
   "name": "python3"
  },
  "language_info": {
   "codemirror_mode": {
    "name": "ipython",
    "version": 2
   },
   "file_extension": ".py",
   "mimetype": "text/x-python",
   "name": "python",
   "nbconvert_exporter": "python",
   "pygments_lexer": "ipython2",
   "version": "2.7.6"
  }
 },
 "nbformat": 4,
 "nbformat_minor": 5
}
