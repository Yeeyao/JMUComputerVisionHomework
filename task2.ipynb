{
 "cells": [
  {
   "metadata": {},
   "cell_type": "markdown",
   "source": [
    "\n",
    "# Master\n",
    "\n",
    "## task 2:\n",
    "\n",
    "### Take a picture of a bilboard on the streets of Wuerzburg from a perspective view and overlay another picture on it, like in this tutorial . Both pictures must be taken by you. (easy - 0.75p)\n"
   ],
   "id": "25d83aa62bdff444"
  },
  {
   "metadata": {
    "ExecuteTime": {
     "end_time": "2025-04-27T21:53:31.807333Z",
     "start_time": "2025-04-27T21:53:23.642292Z"
    }
   },
   "cell_type": "code",
   "source": [
    "from os import path\n",
    "# code reference: https://medium.com/@conghung43/image-projective-transformation-with-opencv-python-f0028aaf2b6d\n",
    "# since the resolutions of photos taken by my phone are too large, I have to scale them down to display on my screen properly\n",
    "import cv2 as cv2\n",
    "import numpy as np\n",
    "\n",
    "\n",
    "# capture mouse motion to find four points that will be replaced by another image\n",
    "def get_paste_position(event, x, y, flags, paste_coordinate_list):\n",
    "    cv2.imshow('collect coordinate', img_dest_copy)\n",
    "    if event == cv2.EVENT_LBUTTONUP:\n",
    "        # Draw circle right in click position\n",
    "        cv2.circle(img_dest_copy, (x, y), 2, (0, 0, 255), -1)\n",
    "        # Append new clicked coordinate to paste_coordinate_list\n",
    "        paste_coordinate_list.append([x, y])\n",
    "\n",
    "if __name__ == '__main__':\n",
    "    # my own code: use a file path instead fixed string\n",
    "    task2_dir = \"Assets/task2\"\n",
    "    task2_src_image_name = \"src.jpg\"\n",
    "    src_image_path = path.join(task2_dir, task2_src_image_name)\n",
    "    # Read source image\n",
    "    img_src = cv2.imread(src_image_path, cv2.IMREAD_COLOR)\n",
    "    # cv2.imwrite('source_image.jpg', img_src)\n",
    "    h, w, c = img_src.shape\n",
    "    # Get source image parameter: [[left,top], [left,bottom], [right, top], [right, bottom]]\n",
    "    # here get the whole image as lab code:\n",
    "    # src_pts = np.float32([[0, 0], [0, test_chart.shape[0]], [test_chart.shape[1], 0], [test_chart.shape[1], test_chart.shape[0]]])\n",
    "    img_src_coordinate = np.array([[0, 0], [0, h], [w, 0], [w, h]])\n",
    "    # also use a file path to read destination image\n",
    "    task2_dest_image_name = \"bg.jpg\"\n",
    "    dest_image_path = path.join(task2_dir, task2_dest_image_name)\n",
    "    img_dest = cv2.imread(dest_image_path, cv2.IMREAD_COLOR)\n",
    "    # copy destination image for get_paste_position (Just avoid destination image will be draw)\n",
    "    img_dest_copy = img_dest.copy()  #np.tile(img_dest, 1)\n",
    "    # use a pop-up window to get coordinate paste_coordinate in destination image\n",
    "    paste_coordinate = []\n",
    "    cv2.namedWindow('collect coordinate')\n",
    "    cv2.setMouseCallback('collect coordinate', get_paste_position, paste_coordinate)\n",
    "    # wait until click 4 times\n",
    "    while True:\n",
    "        cv2.waitKey(1)\n",
    "        if len(paste_coordinate) == 4:\n",
    "            break\n",
    "    paste_coordinate = np.array(paste_coordinate)\n",
    "    # Get perspective matrix, describe how to transform the pixels from the source image (img_src) to their new positions\n",
    "    matrix, _ = cv2.findHomography(img_src_coordinate, paste_coordinate, 0)\n",
    "    print(f'matrix: {matrix}')\n",
    "    # use the matrix to do the transformation\n",
    "    perspective_img = cv2.warpPerspective(img_src, matrix, (img_dest.shape[1], img_dest.shape[0]))\n",
    "    cv2.imshow('img', perspective_img)\n",
    "    cv2.copyTo(src=perspective_img, mask=np.tile(perspective_img, 1), dst=img_dest)\n",
    "    cv2.imshow('result', img_dest)\n",
    "    cv2.waitKey()\n",
    "    cv2.destroyAllWindows()"
   ],
   "id": "182f69423c1a60b",
   "outputs": [
    {
     "name": "stdout",
     "output_type": "stream",
     "text": [
      "matrix: [[-1.26295487e-02  3.23164803e-01  3.43000000e+02]\n",
      " [ 3.08558757e-01 -1.37252570e-02  2.18000000e+02]\n",
      " [-4.77183003e-05 -5.44458349e-06  1.00000000e+00]]\n"
     ]
    }
   ],
   "execution_count": 17
  },
  {
   "metadata": {},
   "cell_type": "code",
   "outputs": [],
   "execution_count": null,
   "source": "",
   "id": "33c3acb65b62ac69"
  }
 ],
 "metadata": {
  "kernelspec": {
   "display_name": "Python 3",
   "language": "python",
   "name": "python3"
  },
  "language_info": {
   "codemirror_mode": {
    "name": "ipython",
    "version": 2
   },
   "file_extension": ".py",
   "mimetype": "text/x-python",
   "name": "python",
   "nbconvert_exporter": "python",
   "pygments_lexer": "ipython2",
   "version": "2.7.6"
  }
 },
 "nbformat": 4,
 "nbformat_minor": 5
}
